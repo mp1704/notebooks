{
 "cells": [
  {
   "cell_type": "code",
   "execution_count": 102,
   "metadata": {},
   "outputs": [],
   "source": [
    "from datasets import load_dataset, Dataset\n",
    "import datasets"
   ]
  },
  {
   "cell_type": "code",
   "execution_count": 3,
   "metadata": {},
   "outputs": [],
   "source": [
    "import bs4\n",
    "import requests\n",
    "import re\n",
    "import time\n",
    "import random as ran\n",
    "import sys\n",
    "import pandas as pd\n",
    "import re\n",
    "\n",
    "def preprocess_text(text):\n",
    "    # Remove HTML tags\n",
    "    text = re.sub(r'<[^>]+>', '', text)\n",
    "    # Remove extra spaces\n",
    "    text = re.sub(r'\\s+', ' ', text)\n",
    "    # Tokenize the text\n",
    "    tokens = text.split()\n",
    "    # Lowercase all tokens\n",
    "    tokens = [token.lower() for token in tokens]\n",
    "    # Remove stopwords (if needed)\n",
    "    # Lemmatize tokens (if needed)\n",
    "    # Join tokens back into text\n",
    "    preprocessed_text = ' '.join(tokens)\n",
    "    return preprocessed_text\n",
    "    return preprocessed_text"
   ]
  },
  {
   "cell_type": "markdown",
   "metadata": {},
   "source": [
    "## experiment"
   ]
  },
  {
   "cell_type": "code",
   "execution_count": 4,
   "metadata": {},
   "outputs": [
    {
     "data": {
      "text/plain": [
       "'Trắc nghiệm Toán 10 Bài 3. Phương trình quy về phương trình bậc hai có đáp án'"
      ]
     },
     "execution_count": 4,
     "metadata": {},
     "output_type": "execute_result"
    }
   ],
   "source": [
    "url = 'https://khoahoc.vietjack.com/thi-online/trac-nghiem-toan-10-bai-3-phuong-trinh-quy-ve-phuong-trinh-bac-hai-co-dap-an/102086/'\n",
    "\n",
    "source = requests.get(url).text\n",
    "soup = bs4.BeautifulSoup(source,'html.parser')\n",
    "title = soup.title.text;title\n"
   ]
  },
  {
   "cell_type": "code",
   "execution_count": 1,
   "metadata": {},
   "outputs": [],
   "source": [
    "# soup.find_all('div',class_='quiz-answer-item')[0].text"
   ]
  },
  {
   "cell_type": "code",
   "execution_count": 19,
   "metadata": {},
   "outputs": [
    {
     "data": {
      "text/plain": [
       "'câu 1: tập nghiệm của phương trình: \\\\[\\\\sqrt {3 - x + {x^2}} - \\\\sqrt {2 + x - {x^2}} = 1\\\\] là: a. {1; 2}; b. {0; 1};2 c. \\\\[\\\\left\\\\{ {\\\\frac{{1 + \\\\sqrt 3 }}{2};\\\\frac{{1 - \\\\sqrt 3 }}{2}} \\\\right\\\\}\\\\] ; d. \\\\[\\\\left\\\\{ {\\\\frac{{1 + \\\\sqrt 5 }}{2};\\\\frac{{1 - \\\\sqrt 5 }}{2}} \\\\right\\\\}\\\\] xem đáp án đáp án đúng là: d điều kiện: \\\\(\\\\left\\\\{ \\\\begin{array}{l}3 - x + {x^2} \\\\ge 0\\\\\\\\2 + x - {x^2} \\\\ge 0\\\\end{array} \\\\right. \\\\leftrightarrow \\\\left\\\\{ \\\\begin{array}{l}3 - x + {x^2} \\\\ge 0\\\\forall x\\\\\\\\ - 1 \\\\le x \\\\le 2\\\\end{array} \\\\right. \\\\leftrightarrow - 1 \\\\le x \\\\le 2\\\\) xét phương trình:\\\\[\\\\sqrt {3 - x + {x^2}} - \\\\sqrt {2 + x - {x^2}} = 1\\\\] \\\\( \\\\leftrightarrow \\\\sqrt {3 - x + {x^2}} = \\\\sqrt {2 + x - {x^2}} + 1\\\\) bình phương hai vế ta được \\\\[ \\\\rightarrow 3 - x + {x^2} = 1 + 2 + x - {x^2} + 2\\\\sqrt {2 + x - {x^2}} \\\\] \\\\[ \\\\rightarrow 2 + x - {x^2} + \\\\sqrt {2 + x - {x^2}} - 2 = 0\\\\] (*) đặt t = \\\\[\\\\sqrt {2 + x - {x^2}} \\\\] (t ≥ 0) (*) ⇔ t2 + t – 2 = 0 ⇔ \\\\(\\\\left[ \\\\begin{array}{l}t = 1\\\\\\\\t = - 2\\\\end{array} \\\\right.\\\\) vì t ≥ 0 nên t = 1 thỏa mãn) \\\\[ \\\\rightarrow \\\\sqrt {2 + x - {x^2}} = 1\\\\] \\\\[ \\\\rightarrow {x^2} - x - 1 = 0\\\\]\\\\[ \\\\rightarrow \\\\left[ \\\\begin{array}{l}x = \\\\frac{{1 + \\\\sqrt 5 }}{2}\\\\\\\\x = \\\\frac{{1 - \\\\sqrt 5 }}{2}\\\\end{array} \\\\right.\\\\] kết hợp với điều kiện phương trình có hai nghiệm \\\\[\\\\left[ \\\\begin{array}{l}x = \\\\frac{{1 + \\\\sqrt 5 }}{2}\\\\\\\\x = \\\\frac{{1 - \\\\sqrt 5 }}{2}\\\\end{array} \\\\right.\\\\]. vậy tập nghiệm của phương trình là: s = \\\\[\\\\left\\\\{ {\\\\frac{{1 + \\\\sqrt 5 }}{2};\\\\frac{{1 - \\\\sqrt 5 }}{2}} \\\\right\\\\}\\\\].'"
      ]
     },
     "execution_count": 19,
     "metadata": {},
     "output_type": "execute_result"
    }
   ],
   "source": [
    "preprocess_text(soup.find_all('div',class_='quiz-answer-item')[0].text)"
   ]
  },
  {
   "cell_type": "markdown",
   "metadata": {},
   "source": [
    "## login"
   ]
  },
  {
   "cell_type": "code",
   "execution_count": 5,
   "metadata": {},
   "outputs": [
    {
     "name": "stdout",
     "output_type": "stream",
     "text": [
      "Token will not been saved to git credential helper. Pass `add_to_git_credential=True` if you want to set the git credential as well.\n",
      "Token is valid (permission: write).\n",
      "Your token has been saved to /home/pc/.cache/huggingface/token\n",
      "Login successful\n"
     ]
    }
   ],
   "source": [
    "from dotenv import dotenv_values\n",
    "hf_token = dotenv_values(\"../.env\")['HF_TOKEN']\n",
    "from huggingface_hub import login\n",
    "login(token=hf_token)"
   ]
  },
  {
   "cell_type": "markdown",
   "metadata": {},
   "source": [
    "## 2nd link"
   ]
  },
  {
   "cell_type": "code",
   "execution_count": 6,
   "metadata": {},
   "outputs": [
    {
     "name": "stdout",
     "output_type": "stream",
     "text": [
      "title='Trắc nghiệm Toán 10 Bài 3. Phương trình quy về phương trình bậc hai có đáp án'\n",
      "url='https://khoahoc.vietjack.com/thi-online/trac-nghiem-toan-10-bai-3-phuong-trinh-quy-ve-phuong-trinh-bac-hai-co-dap-an/102086/'\n"
     ]
    }
   ],
   "source": [
    "grade = 10\n",
    "print(f\"{title=}\")\n",
    "print(f\"{url=}\")\n",
    "problems = [preprocess_text(tag.text) for tag in soup.find_all('div',class_='quiz-answer-item')[:]]\n"
   ]
  },
  {
   "cell_type": "code",
   "execution_count": 7,
   "metadata": {},
   "outputs": [],
   "source": [
    "ds0 = Dataset.from_dict({'grade':[grade]*len(problems), \n",
    "                           \"title\" :[title]*len(problems),\n",
    "                           'problem':problems, \n",
    "                           \"url\":[url]*len(problems)})"
   ]
  },
  {
   "cell_type": "code",
   "execution_count": 8,
   "metadata": {},
   "outputs": [
    {
     "data": {
      "text/plain": [
       "Dataset({\n",
       "    features: ['grade', 'title', 'problem', 'url'],\n",
       "    num_rows: 8\n",
       "})"
      ]
     },
     "execution_count": 8,
     "metadata": {},
     "output_type": "execute_result"
    }
   ],
   "source": [
    "ds0"
   ]
  },
  {
   "cell_type": "code",
   "execution_count": 13,
   "metadata": {},
   "outputs": [
    {
     "data": {
      "text/plain": [
       "'https://khoahoc.vietjack.com/thi-online/trac-nghiem-toan-10-bai-3-phuong-trinh-quy-ve-phuong-trinh-bac-hai-co-dap-an/102086/'"
      ]
     },
     "execution_count": 13,
     "metadata": {},
     "output_type": "execute_result"
    }
   ],
   "source": [
    "# ds0[0]['problem']"
   ]
  },
  {
   "cell_type": "markdown",
   "metadata": {},
   "source": [
    "## 3rd link"
   ]
  },
  {
   "cell_type": "code",
   "execution_count": 14,
   "metadata": {},
   "outputs": [
    {
     "name": "stdout",
     "output_type": "stream",
     "text": [
      "title='Trắc nghiệm Toán 10 CTST Bài 3. Phương trình quy về phương trình bậc hai (Nhận biết và thông hiểu) có đáp án'\n",
      "url='https://khoahoc.vietjack.com/thi-online/trac-nghiem-toan-10-ctst-bai-3-phuong-trinh-quy-ve-phuong-trinh-bac-hai-phan-2-co-dap-an/109987/'\n"
     ]
    }
   ],
   "source": [
    "url = 'https://khoahoc.vietjack.com/thi-online/trac-nghiem-toan-10-ctst-bai-3-phuong-trinh-quy-ve-phuong-trinh-bac-hai-phan-2-co-dap-an/109987/'\n",
    "source = requests.get(url).text\n",
    "soup = bs4.BeautifulSoup(source,'html.parser')\n",
    "title = soup.title.text;title\n",
    "print(f\"{title=}\")\n",
    "print(f\"{url=}\")\n",
    "\n",
    "grade = 10\n",
    "problems = [preprocess_text(tag.text) for tag in soup.find_all('div',class_='quiz-answer-item')[:]]\n",
    "\n",
    "ds1 = Dataset.from_dict({'grade':[grade]*len(problems), \n",
    "                           \"title\" :[title]*len(problems),\n",
    "                           'problem':problems, \n",
    "                           \"url\":[url]*len(problems)})"
   ]
  },
  {
   "cell_type": "markdown",
   "metadata": {},
   "source": [
    "## 4th link"
   ]
  },
  {
   "cell_type": "code",
   "execution_count": 18,
   "metadata": {},
   "outputs": [
    {
     "name": "stdout",
     "output_type": "stream",
     "text": [
      "title='Dạng 1: Toán về quan hệ số có đáp án'\n",
      "url='https://khoahoc.vietjack.com/thi-online/bai-tap-toan-9-chu-de-4-giai-bai-toan-bang-cach-lap-phuong-trinh-bac-hai-co-dap-an/109679'\n"
     ]
    }
   ],
   "source": [
    "url = 'https://khoahoc.vietjack.com/thi-online/bai-tap-toan-9-chu-de-4-giai-bai-toan-bang-cach-lap-phuong-trinh-bac-hai-co-dap-an/109679'\n",
    "source = requests.get(url).text\n",
    "soup = bs4.BeautifulSoup(source,'html.parser')\n",
    "title = soup.title.text;title\n",
    "print(f\"{title=}\")\n",
    "print(f\"{url=}\")\n",
    "\n",
    "grade = 9\n",
    "problems = [preprocess_text(tag.text) for tag in soup.find_all('div',class_='quiz-answer-item')[:]]\n",
    "\n",
    "ds2 = Dataset.from_dict({'grade':[grade]*len(problems), \n",
    "                           \"title\" :[title]*len(problems),\n",
    "                           'problem':problems, \n",
    "                           \"url\":[url]*len(problems)})"
   ]
  },
  {
   "cell_type": "code",
   "execution_count": 19,
   "metadata": {},
   "outputs": [
    {
     "data": {
      "text/plain": [
       "{'grade': 9,\n",
       " 'title': 'Dạng 1: Toán về quan hệ số có đáp án',\n",
       " 'problem': 'câu 1: tìm hai số tự nhiên liên tiếp có tổng các bình phương của nó là 85. xem đáp án gọi số bé là x (x∈n ). số tự nhiên kề sau là x + 1. vì tổng các bình phương của nó là 85 nên ta có phương trình: phương trình có hai nghiệm: vậy hai số phải tìm là 6 và 7.',\n",
       " 'url': 'https://khoahoc.vietjack.com/thi-online/bai-tap-toan-9-chu-de-4-giai-bai-toan-bang-cach-lap-phuong-trinh-bac-hai-co-dap-an/109679'}"
      ]
     },
     "execution_count": 19,
     "metadata": {},
     "output_type": "execute_result"
    }
   ],
   "source": [
    "ds2[0]"
   ]
  },
  {
   "cell_type": "markdown",
   "metadata": {},
   "source": [
    "## 5th link"
   ]
  },
  {
   "cell_type": "markdown",
   "metadata": {},
   "source": [
    "**phần này xử lý thẻ p fail**"
   ]
  },
  {
   "cell_type": "code",
   "execution_count": 22,
   "metadata": {},
   "outputs": [
    {
     "name": "stdout",
     "output_type": "stream",
     "text": [
      "title='15 Bài tập Giải bài toán bằng cách lập phương trình lớp 9 (có đáp án)'\n",
      "url='https://www.vietjack.com/toan-lop-9/bai-tap-giai-bai-toan-bang-cach-lap-phuong-trinh.jsp'\n"
     ]
    }
   ],
   "source": [
    "url = 'https://www.vietjack.com/toan-lop-9/bai-tap-giai-bai-toan-bang-cach-lap-phuong-trinh.jsp'\n",
    "source = requests.get(url).text\n",
    "soup = bs4.BeautifulSoup(source,'html.parser')\n",
    "title = soup.title.text;title\n",
    "print(f\"{title=}\")\n",
    "print(f\"{url=}\")\n",
    "\n",
    "grade = 9\n",
    "# problems = [preprocess_text(tag.text) for tag in soup.find_all('div',class_='quiz-answer-item')[:]]\n",
    "\n",
    "# ds3 = Dataset.from_dict({'grade':[grade]*len(problems), \n",
    "#                            \"title\" :[title]*len(problems),\n",
    "#                            'problem':problems, \n",
    "#                            \"url\":[url]*len(problems)})"
   ]
  },
  {
   "cell_type": "code",
   "execution_count": 115,
   "metadata": {},
   "outputs": [],
   "source": [
    "answer_elements = soup.find_all('p')\n",
    "answer_options = []\n",
    "for answer_element in answer_elements:\n",
    "    if answer_element.text.startswith(\"Câu\"):\n",
    "      answer_options.append(answer_element.text.strip())\n",
    "    # if answer start with a or b or c or d\n",
    "    for choice in [\"A\",\"B\",\"C\",\"D\"]:\n",
    "      if answer_element.text.startswith(choice):\n",
    "        answer_options[-1] += (answer_element.text.strip())\n",
    "    # if answer_element.text.startswith(\"Lời\"):\n",
    "      # answer_options[-1] +=(answer_element.text.strip())"
   ]
  },
  {
   "cell_type": "code",
   "execution_count": 116,
   "metadata": {},
   "outputs": [
    {
     "data": {
      "text/plain": [
       "'Câu  1: Cho hai số tự nhiên biết rằng hai lần số thứ nhất hơn ba lần số thứ hai là 9 và hiệu các bình phương của chúng bằng 119. Tìm số lớn hơn.Câu  1: Cho hai số tự nhiên biết rằng hai lần số thứ nhất hơn ba lần số thứ hai là 9 và hiệu các bình phương của chúng bằng 119. Tìm số lớn hơn.A. 12B. 13C. 32D. 33Chọn đáp án A.'"
      ]
     },
     "execution_count": 116,
     "metadata": {},
     "output_type": "execute_result"
    }
   ],
   "source": [
    "answer_options[0]"
   ]
  },
  {
   "cell_type": "markdown",
   "metadata": {},
   "source": [
    "## time to push"
   ]
  },
  {
   "cell_type": "code",
   "execution_count": 117,
   "metadata": {},
   "outputs": [
    {
     "name": "stderr",
     "output_type": "stream",
     "text": [
      "Creating parquet from Arrow format: 100%|██████████| 1/1 [00:00<00:00, 1906.50ba/s]\n",
      "Uploading the dataset shards: 100%|██████████| 1/1 [00:01<00:00,  1.44s/it]\n"
     ]
    }
   ],
   "source": [
    "dataset_name = 'pt_vietjack'\n",
    "concat_ds = datasets.concatenate_datasets([ds0,ds1,ds2])\n",
    "\n",
    "# upload if needed\n",
    "concat_ds.push_to_hub(dataset_name)"
   ]
  }
 ],
 "metadata": {
  "kernelspec": {
   "display_name": "cuda",
   "language": "python",
   "name": "python3"
  },
  "language_info": {
   "codemirror_mode": {
    "name": "ipython",
    "version": 3
   },
   "file_extension": ".py",
   "mimetype": "text/x-python",
   "name": "python",
   "nbconvert_exporter": "python",
   "pygments_lexer": "ipython3",
   "version": "3.9.18"
  }
 },
 "nbformat": 4,
 "nbformat_minor": 2
}

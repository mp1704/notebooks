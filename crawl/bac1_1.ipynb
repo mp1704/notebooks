{
 "cells": [
  {
   "cell_type": "code",
   "execution_count": 1,
   "metadata": {},
   "outputs": [
    {
     "name": "stderr",
     "output_type": "stream",
     "text": [
      "/home/pc/miniconda3/envs/cuda/lib/python3.9/site-packages/tqdm/auto.py:21: TqdmWarning: IProgress not found. Please update jupyter and ipywidgets. See https://ipywidgets.readthedocs.io/en/stable/user_install.html\n",
      "  from .autonotebook import tqdm as notebook_tqdm\n"
     ]
    },
    {
     "name": "stdout",
     "output_type": "stream",
     "text": [
      "Token will not been saved to git credential helper. Pass `add_to_git_credential=True` if you want to set the git credential as well.\n",
      "Token is valid (permission: write).\n",
      "Your token has been saved to /home/pc/.cache/huggingface/token\n",
      "Login successful\n"
     ]
    }
   ],
   "source": [
    "from datasets import load_dataset, Dataset\n",
    "import datasets\n",
    "import bs4\n",
    "import requests\n",
    "import re\n",
    "import time\n",
    "import random as ran\n",
    "import sys\n",
    "import pandas as pd\n",
    "import re\n",
    "from dotenv import dotenv_values\n",
    "\n",
    "hf_token = dotenv_values(\"../.env\")['HF_TOKEN']\n",
    "from huggingface_hub import login\n",
    "login(token=hf_token)\n",
    "\n",
    "def preprocess_text(text):\n",
    "    # Remove HTML tags\n",
    "    text = re.sub(r'<[^>]+>', '', text)\n",
    "    # Remove extra spaces\n",
    "    text = re.sub(r'\\s+', ' ', text)\n",
    "    # Tokenize the text\n",
    "    tokens = text.split()\n",
    "    # Lowercase all tokens\n",
    "    tokens = [token.lower() for token in tokens]\n",
    "    # Remove stopwords (if needed)\n",
    "    # Lemmatize tokens (if needed)\n",
    "    # Join tokens back into text\n",
    "    preprocessed_text = ' '.join(tokens)\n",
    "    return preprocessed_text\n",
    "    return preprocessed_text"
   ]
  },
  {
   "cell_type": "markdown",
   "metadata": {},
   "source": [
    "## experiment"
   ]
  },
  {
   "cell_type": "code",
   "execution_count": 2,
   "metadata": {},
   "outputs": [
    {
     "data": {
      "text/plain": [
       "'Trắc nghiệm Toán 10 Bài 3. Phương trình quy về phương trình bậc hai có đáp án'"
      ]
     },
     "execution_count": 2,
     "metadata": {},
     "output_type": "execute_result"
    }
   ],
   "source": [
    "url = 'https://khoahoc.vietjack.com/thi-online/trac-nghiem-toan-10-bai-3-phuong-trinh-quy-ve-phuong-trinh-bac-hai-co-dap-an/102086/'\n",
    "\n",
    "source = requests.get(url).text\n",
    "soup = bs4.BeautifulSoup(source,'html.parser')\n",
    "title = soup.title.text;title\n"
   ]
  },
  {
   "cell_type": "code",
   "execution_count": 3,
   "metadata": {},
   "outputs": [
    {
     "data": {
      "text/plain": [
       "'câu 1: tập nghiệm của phương trình: \\\\[\\\\sqrt {3 - x + {x^2}} - \\\\sqrt {2 + x - {x^2}} = 1\\\\] là: a. {1; 2}; b. {0; 1};2 c. \\\\[\\\\left\\\\{ {\\\\frac{{1 + \\\\sqrt 3 }}{2};\\\\frac{{1 - \\\\sqrt 3 }}{2}} \\\\right\\\\}\\\\] ; d. \\\\[\\\\left\\\\{ {\\\\frac{{1 + \\\\sqrt 5 }}{2};\\\\frac{{1 - \\\\sqrt 5 }}{2}} \\\\right\\\\}\\\\] xem đáp án đáp án đúng là: d điều kiện: \\\\(\\\\left\\\\{ \\\\begin{array}{l}3 - x + {x^2} \\\\ge 0\\\\\\\\2 + x - {x^2} \\\\ge 0\\\\end{array} \\\\right. \\\\leftrightarrow \\\\left\\\\{ \\\\begin{array}{l}3 - x + {x^2} \\\\ge 0\\\\forall x\\\\\\\\ - 1 \\\\le x \\\\le 2\\\\end{array} \\\\right. \\\\leftrightarrow - 1 \\\\le x \\\\le 2\\\\) xét phương trình:\\\\[\\\\sqrt {3 - x + {x^2}} - \\\\sqrt {2 + x - {x^2}} = 1\\\\] \\\\( \\\\leftrightarrow \\\\sqrt {3 - x + {x^2}} = \\\\sqrt {2 + x - {x^2}} + 1\\\\) bình phương hai vế ta được \\\\[ \\\\rightarrow 3 - x + {x^2} = 1 + 2 + x - {x^2} + 2\\\\sqrt {2 + x - {x^2}} \\\\] \\\\[ \\\\rightarrow 2 + x - {x^2} + \\\\sqrt {2 + x - {x^2}} - 2 = 0\\\\] (*) đặt t = \\\\[\\\\sqrt {2 + x - {x^2}} \\\\] (t ≥ 0) (*) ⇔ t2 + t – 2 = 0 ⇔ \\\\(\\\\left[ \\\\begin{array}{l}t = 1\\\\\\\\t = - 2\\\\end{array} \\\\right.\\\\) vì t ≥ 0 nên t = 1 thỏa mãn) \\\\[ \\\\rightarrow \\\\sqrt {2 + x - {x^2}} = 1\\\\] \\\\[ \\\\rightarrow {x^2} - x - 1 = 0\\\\]\\\\[ \\\\rightarrow \\\\left[ \\\\begin{array}{l}x = \\\\frac{{1 + \\\\sqrt 5 }}{2}\\\\\\\\x = \\\\frac{{1 - \\\\sqrt 5 }}{2}\\\\end{array} \\\\right.\\\\] kết hợp với điều kiện phương trình có hai nghiệm \\\\[\\\\left[ \\\\begin{array}{l}x = \\\\frac{{1 + \\\\sqrt 5 }}{2}\\\\\\\\x = \\\\frac{{1 - \\\\sqrt 5 }}{2}\\\\end{array} \\\\right.\\\\]. vậy tập nghiệm của phương trình là: s = \\\\[\\\\left\\\\{ {\\\\frac{{1 + \\\\sqrt 5 }}{2};\\\\frac{{1 - \\\\sqrt 5 }}{2}} \\\\right\\\\}\\\\].'"
      ]
     },
     "execution_count": 3,
     "metadata": {},
     "output_type": "execute_result"
    }
   ],
   "source": [
    "preprocess_text(soup.find_all('div',class_='quiz-answer-item')[0].text)"
   ]
  },
  {
   "cell_type": "markdown",
   "metadata": {},
   "source": [
    "## 2nd link"
   ]
  },
  {
   "cell_type": "code",
   "execution_count": 4,
   "metadata": {},
   "outputs": [
    {
     "name": "stdout",
     "output_type": "stream",
     "text": [
      "title='Trắc nghiệm Toán 10 Bài 3. Phương trình quy về phương trình bậc hai có đáp án'\n",
      "url='https://khoahoc.vietjack.com/thi-online/trac-nghiem-toan-10-bai-3-phuong-trinh-quy-ve-phuong-trinh-bac-hai-co-dap-an/102086/'\n"
     ]
    }
   ],
   "source": [
    "grade = 10\n",
    "print(f\"{title=}\")\n",
    "print(f\"{url=}\")\n",
    "problems = [preprocess_text(tag.text) for tag in soup.find_all('div',class_='quiz-answer-item')[:]]\n"
   ]
  },
  {
   "cell_type": "code",
   "execution_count": 5,
   "metadata": {},
   "outputs": [],
   "source": [
    "ds0 = Dataset.from_dict({'grade':[grade]*len(problems), \n",
    "                           \"title\" :[title]*len(problems),\n",
    "                           'problem':problems, \n",
    "                           \"url\":[url]*len(problems)})"
   ]
  },
  {
   "cell_type": "code",
   "execution_count": 6,
   "metadata": {},
   "outputs": [
    {
     "data": {
      "text/plain": [
       "Dataset({\n",
       "    features: ['grade', 'title', 'problem', 'url'],\n",
       "    num_rows: 8\n",
       "})"
      ]
     },
     "execution_count": 6,
     "metadata": {},
     "output_type": "execute_result"
    }
   ],
   "source": [
    "ds0"
   ]
  },
  {
   "cell_type": "code",
   "execution_count": 7,
   "metadata": {},
   "outputs": [
    {
     "data": {
      "text/plain": [
       "'câu 1: tập nghiệm của phương trình: \\\\[\\\\sqrt {3 - x + {x^2}} - \\\\sqrt {2 + x - {x^2}} = 1\\\\] là: a. {1; 2}; b. {0; 1};2 c. \\\\[\\\\left\\\\{ {\\\\frac{{1 + \\\\sqrt 3 }}{2};\\\\frac{{1 - \\\\sqrt 3 }}{2}} \\\\right\\\\}\\\\] ; d. \\\\[\\\\left\\\\{ {\\\\frac{{1 + \\\\sqrt 5 }}{2};\\\\frac{{1 - \\\\sqrt 5 }}{2}} \\\\right\\\\}\\\\] xem đáp án đáp án đúng là: d điều kiện: \\\\(\\\\left\\\\{ \\\\begin{array}{l}3 - x + {x^2} \\\\ge 0\\\\\\\\2 + x - {x^2} \\\\ge 0\\\\end{array} \\\\right. \\\\leftrightarrow \\\\left\\\\{ \\\\begin{array}{l}3 - x + {x^2} \\\\ge 0\\\\forall x\\\\\\\\ - 1 \\\\le x \\\\le 2\\\\end{array} \\\\right. \\\\leftrightarrow - 1 \\\\le x \\\\le 2\\\\) xét phương trình:\\\\[\\\\sqrt {3 - x + {x^2}} - \\\\sqrt {2 + x - {x^2}} = 1\\\\] \\\\( \\\\leftrightarrow \\\\sqrt {3 - x + {x^2}} = \\\\sqrt {2 + x - {x^2}} + 1\\\\) bình phương hai vế ta được \\\\[ \\\\rightarrow 3 - x + {x^2} = 1 + 2 + x - {x^2} + 2\\\\sqrt {2 + x - {x^2}} \\\\] \\\\[ \\\\rightarrow 2 + x - {x^2} + \\\\sqrt {2 + x - {x^2}} - 2 = 0\\\\] (*) đặt t = \\\\[\\\\sqrt {2 + x - {x^2}} \\\\] (t ≥ 0) (*) ⇔ t2 + t – 2 = 0 ⇔ \\\\(\\\\left[ \\\\begin{array}{l}t = 1\\\\\\\\t = - 2\\\\end{array} \\\\right.\\\\) vì t ≥ 0 nên t = 1 thỏa mãn) \\\\[ \\\\rightarrow \\\\sqrt {2 + x - {x^2}} = 1\\\\] \\\\[ \\\\rightarrow {x^2} - x - 1 = 0\\\\]\\\\[ \\\\rightarrow \\\\left[ \\\\begin{array}{l}x = \\\\frac{{1 + \\\\sqrt 5 }}{2}\\\\\\\\x = \\\\frac{{1 - \\\\sqrt 5 }}{2}\\\\end{array} \\\\right.\\\\] kết hợp với điều kiện phương trình có hai nghiệm \\\\[\\\\left[ \\\\begin{array}{l}x = \\\\frac{{1 + \\\\sqrt 5 }}{2}\\\\\\\\x = \\\\frac{{1 - \\\\sqrt 5 }}{2}\\\\end{array} \\\\right.\\\\]. vậy tập nghiệm của phương trình là: s = \\\\[\\\\left\\\\{ {\\\\frac{{1 + \\\\sqrt 5 }}{2};\\\\frac{{1 - \\\\sqrt 5 }}{2}} \\\\right\\\\}\\\\].'"
      ]
     },
     "execution_count": 7,
     "metadata": {},
     "output_type": "execute_result"
    }
   ],
   "source": [
    "ds0[0]['problem']"
   ]
  },
  {
   "cell_type": "markdown",
   "metadata": {},
   "source": [
    "## 3rd link"
   ]
  },
  {
   "cell_type": "code",
   "execution_count": 8,
   "metadata": {},
   "outputs": [
    {
     "name": "stdout",
     "output_type": "stream",
     "text": [
      "title='Trắc nghiệm Toán 10 CTST Bài 3. Phương trình quy về phương trình bậc hai (Nhận biết và thông hiểu) có đáp án'\n",
      "url='https://khoahoc.vietjack.com/thi-online/trac-nghiem-toan-10-ctst-bai-3-phuong-trinh-quy-ve-phuong-trinh-bac-hai-phan-2-co-dap-an/109987/'\n"
     ]
    }
   ],
   "source": [
    "url = 'https://khoahoc.vietjack.com/thi-online/trac-nghiem-toan-10-ctst-bai-3-phuong-trinh-quy-ve-phuong-trinh-bac-hai-phan-2-co-dap-an/109987/'\n",
    "source = requests.get(url).text\n",
    "soup = bs4.BeautifulSoup(source,'html.parser')\n",
    "title = soup.title.text;title\n",
    "print(f\"{title=}\")\n",
    "print(f\"{url=}\")\n",
    "\n",
    "grade = 10\n",
    "problems = [preprocess_text(tag.text) for tag in soup.find_all('div',class_='quiz-answer-item')[:]]\n",
    "\n",
    "ds1 = Dataset.from_dict({'grade':[grade]*len(problems), \n",
    "                           \"title\" :[title]*len(problems),\n",
    "                           'problem':problems, \n",
    "                           \"url\":[url]*len(problems)})"
   ]
  },
  {
   "cell_type": "code",
   "execution_count": 9,
   "metadata": {},
   "outputs": [
    {
     "data": {
      "text/plain": [
       "'câu 1: phương trình nào sau đây không thể quy về phương trình bậc hai? a. x2−x+1=x+3; b. x+6=2x−1; c. x2+2x−3=2x2+8x−7; d. x3−x2+1=3. xem đáp án hướng dẫn giải đáp án đúng là: d bình phương hai vế phương trình ở phương án a, ta được: x2 – x + 1 = x + 3 ⇒ x2 – 2x – 2 = 0 vì x2 – 2x – 2 = 0 là phương trình bậc hai nên phương án a đúng. ta thực hiện tương tự như vậy cho các phương trình ở các phương án b, c, ta thấy phương trình ở phương án b, c có thể quy về phương trình bậc hai. đối với phương trình ở phương án d, sau khi bình phương hai vế ta có: x3 – x2 – 2 = 0. đây không phải phương trình bậc hai. vậy ta chọn phương án d.'"
      ]
     },
     "execution_count": 9,
     "metadata": {},
     "output_type": "execute_result"
    }
   ],
   "source": [
    "ds1[0]['problem']"
   ]
  },
  {
   "cell_type": "markdown",
   "metadata": {},
   "source": [
    "## 4th link"
   ]
  },
  {
   "cell_type": "code",
   "execution_count": 10,
   "metadata": {},
   "outputs": [
    {
     "name": "stdout",
     "output_type": "stream",
     "text": [
      "title='Dạng 1: Toán về quan hệ số có đáp án'\n",
      "url='https://khoahoc.vietjack.com/thi-online/bai-tap-toan-9-chu-de-4-giai-bai-toan-bang-cach-lap-phuong-trinh-bac-hai-co-dap-an/109679'\n"
     ]
    }
   ],
   "source": [
    "url = 'https://khoahoc.vietjack.com/thi-online/bai-tap-toan-9-chu-de-4-giai-bai-toan-bang-cach-lap-phuong-trinh-bac-hai-co-dap-an/109679'\n",
    "source = requests.get(url).text\n",
    "soup = bs4.BeautifulSoup(source,'html.parser')\n",
    "title = soup.title.text;title\n",
    "print(f\"{title=}\")\n",
    "print(f\"{url=}\")\n",
    "\n",
    "grade = 9\n",
    "problems = [preprocess_text(tag.text) for tag in soup.find_all('div',class_='quiz-answer-item')[:]]\n",
    "\n",
    "ds2 = Dataset.from_dict({'grade':[grade]*len(problems), \n",
    "                           \"title\" :[title]*len(problems),\n",
    "                           'problem':problems, \n",
    "                           \"url\":[url]*len(problems)})"
   ]
  },
  {
   "cell_type": "code",
   "execution_count": 11,
   "metadata": {},
   "outputs": [
    {
     "data": {
      "text/plain": [
       "{'grade': 9,\n",
       " 'title': 'Dạng 1: Toán về quan hệ số có đáp án',\n",
       " 'problem': 'câu 1: tìm hai số tự nhiên liên tiếp có tổng các bình phương của nó là 85. xem đáp án gọi số bé là x (x∈n ). số tự nhiên kề sau là x + 1. vì tổng các bình phương của nó là 85 nên ta có phương trình: phương trình có hai nghiệm: vậy hai số phải tìm là 6 và 7.',\n",
       " 'url': 'https://khoahoc.vietjack.com/thi-online/bai-tap-toan-9-chu-de-4-giai-bai-toan-bang-cach-lap-phuong-trinh-bac-hai-co-dap-an/109679'}"
      ]
     },
     "execution_count": 11,
     "metadata": {},
     "output_type": "execute_result"
    }
   ],
   "source": [
    "ds2[0]"
   ]
  },
  {
   "cell_type": "markdown",
   "metadata": {},
   "source": [
    "## 5th link"
   ]
  },
  {
   "cell_type": "markdown",
   "metadata": {},
   "source": [
    "**phần này xử lý thẻ p fail**"
   ]
  },
  {
   "cell_type": "code",
   "execution_count": 12,
   "metadata": {},
   "outputs": [
    {
     "name": "stdout",
     "output_type": "stream",
     "text": [
      "title='15 Bài tập Giải bài toán bằng cách lập phương trình lớp 9 (có đáp án)'\n",
      "url='https://www.vietjack.com/toan-lop-9/bai-tap-giai-bai-toan-bang-cach-lap-phuong-trinh.jsp'\n"
     ]
    }
   ],
   "source": [
    "url = 'https://www.vietjack.com/toan-lop-9/bai-tap-giai-bai-toan-bang-cach-lap-phuong-trinh.jsp'\n",
    "source = requests.get(url).text\n",
    "soup = bs4.BeautifulSoup(source,'html.parser')\n",
    "title = soup.title.text;title\n",
    "print(f\"{title=}\")\n",
    "print(f\"{url=}\")\n",
    "\n",
    "grade = 9\n"
   ]
  },
  {
   "cell_type": "code",
   "execution_count": 13,
   "metadata": {},
   "outputs": [],
   "source": [
    "# for data in soup.find_all(\"p\"): \n",
    "#     print(data.get_text()) "
   ]
  },
  {
   "cell_type": "code",
   "execution_count": 14,
   "metadata": {},
   "outputs": [],
   "source": [
    "with open('text.txt') as f:\n",
    "    lines = f.readlines()"
   ]
  },
  {
   "cell_type": "code",
   "execution_count": 15,
   "metadata": {},
   "outputs": [],
   "source": [
    "new_problems = []\n",
    "# read lines, add \"cau hoi\" to new_problems\n",
    "for line in lines:\n",
    "    if line.startswith(\"Câu\"):\n",
    "        new_problems.append(line)\n",
    "    else:\n",
    "        new_problems[-1] += line"
   ]
  },
  {
   "cell_type": "code",
   "execution_count": 16,
   "metadata": {},
   "outputs": [],
   "source": [
    "# apply preprocess_text to new_problems\n",
    "new_problems = [preprocess_text(problem) for problem in new_problems]"
   ]
  },
  {
   "cell_type": "code",
   "execution_count": 17,
   "metadata": {},
   "outputs": [
    {
     "data": {
      "text/plain": [
       "15"
      ]
     },
     "execution_count": 17,
     "metadata": {},
     "output_type": "execute_result"
    }
   ],
   "source": [
    "len(new_problems)"
   ]
  },
  {
   "cell_type": "code",
   "execution_count": 18,
   "metadata": {},
   "outputs": [],
   "source": [
    "ds3 = Dataset.from_dict({'grade':[grade]*len(new_problems), \n",
    "                           \"title\" :[title]*len(new_problems),\n",
    "                           'problem':new_problems, \n",
    "                           \"url\":[url]*len(new_problems)})"
   ]
  },
  {
   "cell_type": "code",
   "execution_count": 19,
   "metadata": {},
   "outputs": [
    {
     "data": {
      "text/plain": [
       "Dataset({\n",
       "    features: ['grade', 'title', 'problem', 'url'],\n",
       "    num_rows: 15\n",
       "})"
      ]
     },
     "execution_count": 19,
     "metadata": {},
     "output_type": "execute_result"
    }
   ],
   "source": [
    "ds3"
   ]
  },
  {
   "cell_type": "markdown",
   "metadata": {},
   "source": [
    "## time to push"
   ]
  },
  {
   "cell_type": "markdown",
   "metadata": {},
   "source": [
    "**concat sai**"
   ]
  },
  {
   "cell_type": "code",
   "execution_count": 20,
   "metadata": {},
   "outputs": [],
   "source": [
    "concat_ds = datasets.concatenate_datasets([ds0,ds1,ds2,ds3])\n"
   ]
  },
  {
   "cell_type": "code",
   "execution_count": 21,
   "metadata": {},
   "outputs": [
    {
     "name": "stderr",
     "output_type": "stream",
     "text": [
      "Creating parquet from Arrow format: 100%|██████████| 1/1 [00:00<00:00, 1450.31ba/s]\n",
      "Uploading the dataset shards: 100%|██████████| 1/1 [00:02<00:00,  2.49s/it]\n"
     ]
    }
   ],
   "source": [
    "# upload if needed\n",
    "dataset_name = \"ptb1_1\"\n",
    "concat_ds.push_to_hub(dataset_name)"
   ]
  }
 ],
 "metadata": {
  "kernelspec": {
   "display_name": "cuda",
   "language": "python",
   "name": "python3"
  },
  "language_info": {
   "codemirror_mode": {
    "name": "ipython",
    "version": 3
   },
   "file_extension": ".py",
   "mimetype": "text/x-python",
   "name": "python",
   "nbconvert_exporter": "python",
   "pygments_lexer": "ipython3",
   "version": "3.9.18"
  }
 },
 "nbformat": 4,
 "nbformat_minor": 2
}

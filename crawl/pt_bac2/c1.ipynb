{
 "cells": [
  {
   "cell_type": "code",
   "execution_count": 1,
   "metadata": {},
   "outputs": [
    {
     "name": "stderr",
     "output_type": "stream",
     "text": [
      "/home/pc/miniconda3/envs/cuda/lib/python3.9/site-packages/tqdm/auto.py:21: TqdmWarning: IProgress not found. Please update jupyter and ipywidgets. See https://ipywidgets.readthedocs.io/en/stable/user_install.html\n",
      "  from .autonotebook import tqdm as notebook_tqdm\n"
     ]
    },
    {
     "name": "stdout",
     "output_type": "stream",
     "text": [
      "Token will not been saved to git credential helper. Pass `add_to_git_credential=True` if you want to set the git credential as well.\n",
      "Token is valid (permission: write).\n",
      "Your token has been saved to /home/pc/.cache/huggingface/token\n",
      "Login successful\n"
     ]
    }
   ],
   "source": [
    "import bs4\n",
    "import requests\n",
    "import re\n",
    "import time\n",
    "import random as ran\n",
    "import sys\n",
    "import pandas as pd\n",
    "from datasets import load_dataset, Dataset\n",
    "import re\n",
    "from huggingface_hub import login\n",
    "from dotenv import dotenv_values\n",
    "hf_token = dotenv_values()['HF_TOKEN']\n",
    "login(token=hf_token)\n",
    "def preprocess_text(text):\n",
    "    # Remove HTML tags\n",
    "    text = re.sub(r'<[^>]+>', '', text)\n",
    "    # Remove extra spaces\n",
    "    text = re.sub(r'\\s+', ' ', text)\n",
    "    # Tokenize the text\n",
    "    tokens = text.split()\n",
    "    # Lowercase all tokens\n",
    "    tokens = [token.lower() for token in tokens]\n",
    "    # Remove stopwords (if needed)\n",
    "    # Lemmatize tokens (if needed)\n",
    "    # Join tokens back into text\n",
    "    preprocessed_text = ' '.join(tokens)\n",
    "    return preprocessed_text\n",
    "    return preprocessed_text"
   ]
  },
  {
   "cell_type": "code",
   "execution_count": 2,
   "metadata": {},
   "outputs": [
    {
     "name": "stdout",
     "output_type": "stream",
     "text": [
      "title='Trắc nghiệm Bài 7: Phương trình quy về phương trình bậc hai Toán 9 | Bài tập trắc nghiệm Toán 9'\n"
     ]
    }
   ],
   "source": [
    "url = 'https://loigiaihay.com/trac-nghiem-bai-7-phuong-trinh-quy-ve-phuong-trinh-bac-hai-toan-9-a126699.html'\n",
    "source = requests.get(url).text\n",
    "soup = bs4.BeautifulSoup(source,'html.parser')\n",
    "title = soup.title.text\n",
    "print(f\"{title=}\")\n",
    "grade = 9\n",
    "\n",
    "questions = soup.find_all('div', {'id': 'sub-question-2'})\n",
    "problems = [preprocess_text(q.text) for q in questions[0].find_all('div', {'class': 'question'})]\n",
    "\n",
    "ds0 = Dataset.from_dict({\n",
    "    \"grade\": [grade]*len(problems),\n",
    "    \"title\": [title]*len(problems),\n",
    "    \"problem\": problems,\n",
    "    \"url\": [url]*len(problems),\n",
    "})"
   ]
  },
  {
   "cell_type": "code",
   "execution_count": 3,
   "metadata": {},
   "outputs": [
    {
     "name": "stdout",
     "output_type": "stream",
     "text": [
      "title='Trắc nghiệm Bài 8: Giải bài toán bằng cách lập phương trình Toán 9 | Bài tập trắc nghiệm Toán 9'\n"
     ]
    }
   ],
   "source": [
    "url = 'https://loigiaihay.com/trac-nghiem-bai-8-giai-bai-toan-bang-cach-lap-phuong-trinh-toan-9-a126701.html'\n",
    "source = requests.get(url).text\n",
    "soup = bs4.BeautifulSoup(source,'html.parser')\n",
    "title = soup.title.text\n",
    "print(f\"{title=}\")\n",
    "grade = 9\n",
    "\n",
    "questions = soup.find_all('div', {'id': 'sub-question-2'})\n",
    "problems = [preprocess_text(q.text) for q in questions[0].find_all('div', {'class': 'question'})]\n",
    "\n",
    "ds1 = Dataset.from_dict({\n",
    "    \"grade\": [grade]*len(problems),\n",
    "    \"title\": [title]*len(problems),\n",
    "    \"problem\": problems,\n",
    "    \"url\": [url]*len(problems),\n",
    "})"
   ]
  },
  {
   "cell_type": "code",
   "execution_count": 21,
   "metadata": {},
   "outputs": [
    {
     "name": "stdout",
     "output_type": "stream",
     "text": [
      "title='Giải Bài 33 trang 72 Vở bài tập toán 9 tập 2'\n"
     ]
    }
   ],
   "source": [
    "url = 'https://loigiaihay.com/bai-33-trang-72-vo-bai-tap-toan-9-tap-2-c348a51347.html'\n",
    "source = requests.get(url).text\n",
    "soup = bs4.BeautifulSoup(source,'html.parser')\n",
    "title = soup.title.text\n",
    "print(f\"{title=}\")\n",
    "grade = 9\n",
    "\n",
    "questions = soup.find_all('div', {'id': 'box-content'})\n",
    "problems = [preprocess_text(q.text) for q in questions]\n",
    "\n",
    "ds2 = Dataset.from_dict({\n",
    "    \"grade\": [grade]*len(problems),\n",
    "    \"title\": [title]*len(problems),\n",
    "    \"problem\": problems,\n",
    "    \"url\": [url]*len(problems),\n",
    "})"
   ]
  }
 ],
 "metadata": {
  "kernelspec": {
   "display_name": "cuda",
   "language": "python",
   "name": "python3"
  },
  "language_info": {
   "codemirror_mode": {
    "name": "ipython",
    "version": 3
   },
   "file_extension": ".py",
   "mimetype": "text/x-python",
   "name": "python",
   "nbconvert_exporter": "python",
   "pygments_lexer": "ipython3",
   "version": "3.9.18"
  }
 },
 "nbformat": 4,
 "nbformat_minor": 2
}

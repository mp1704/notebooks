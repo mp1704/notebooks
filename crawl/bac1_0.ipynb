{
 "cells": [
  {
   "cell_type": "code",
   "execution_count": 2,
   "metadata": {},
   "outputs": [],
   "source": [
    "import bs4\n",
    "import requests\n",
    "import re\n",
    "import time\n",
    "import random as ran\n",
    "import sys\n",
    "import pandas as pd\n",
    "from datasets import load_dataset, Dataset\n",
    "import re\n",
    "def preprocess_text(text):\n",
    "    # Remove HTML tags\n",
    "    text = re.sub(r'<[^>]+>', '', text)\n",
    "    # Remove extra spaces\n",
    "    text = re.sub(r'\\s+', ' ', text)\n",
    "    # Tokenize the text\n",
    "    tokens = text.split()\n",
    "    # Lowercase all tokens\n",
    "    tokens = [token.lower() for token in tokens]\n",
    "    # Remove stopwords (if needed)\n",
    "    # Lemmatize tokens (if needed)\n",
    "    # Join tokens back into text\n",
    "    preprocessed_text = ' '.join(tokens)\n",
    "    return preprocessed_text\n",
    "    return preprocessed_text\n",
    "\n",
    "    "
   ]
  },
  {
   "cell_type": "code",
   "execution_count": 3,
   "metadata": {},
   "outputs": [
    {
     "name": "stdout",
     "output_type": "stream",
     "text": [
      "Token will not been saved to git credential helper. Pass `add_to_git_credential=True` if you want to set the git credential as well.\n",
      "Token is valid (permission: write).\n",
      "Your token has been saved to /home/pc/.cache/huggingface/token\n",
      "Login successful\n"
     ]
    }
   ],
   "source": [
    "from huggingface_hub import login\n",
    "from dotenv import dotenv_values\n",
    "hf_token = dotenv_values(\"../.env\")['HF_TOKEN']\n",
    "login(token=hf_token)"
   ]
  },
  {
   "cell_type": "code",
   "execution_count": 4,
   "metadata": {},
   "outputs": [
    {
     "name": "stdout",
     "output_type": "stream",
     "text": [
      "f{title=}\n"
     ]
    }
   ],
   "source": [
    "url = 'https://loigiaihay.com/trac-nghiem-toan-8-bai-26-ket-noi-tri-thuc-co-dap-an-a153391.html'\n",
    "\n",
    "source = requests.get(url).text\n",
    "soup = bs4.BeautifulSoup(source,'html.parser')\n",
    "title = soup.title.text\n",
    "print(\"f{title=}\")\n",
    "grade = 8\n",
    "problems = [preprocess_text(tag.text) for tag in soup.find_all('div',class_='question')[:]]"
   ]
  },
  {
   "cell_type": "code",
   "execution_count": 5,
   "metadata": {},
   "outputs": [],
   "source": [
    "my_ds = Dataset.from_dict({'grade':[grade]*len(problems), \n",
    "                           \"title\" :[title]*len(problems),\n",
    "                           'problem':problems, \n",
    "                           \"url\":[url]*len(problems)})"
   ]
  },
  {
   "cell_type": "code",
   "execution_count": 6,
   "metadata": {},
   "outputs": [
    {
     "data": {
      "text/plain": [
       "Dataset({\n",
       "    features: ['grade', 'title', 'problem', 'url'],\n",
       "    num_rows: 60\n",
       "})"
      ]
     },
     "execution_count": 6,
     "metadata": {},
     "output_type": "execute_result"
    }
   ],
   "source": [
    "my_ds"
   ]
  },
  {
   "cell_type": "code",
   "execution_count": 7,
   "metadata": {},
   "outputs": [
    {
     "name": "stderr",
     "output_type": "stream",
     "text": [
      "Creating parquet from Arrow format: 100%|██████████| 1/1 [00:00<00:00, 1438.38ba/s]\n",
      "Uploading the dataset shards: 100%|██████████| 1/1 [00:02<00:00,  2.26s/it]\n"
     ]
    }
   ],
   "source": [
    "# upload if needed\n",
    "dataset_name = 'ptb1_0'\n",
    "my_ds.push_to_hub(dataset_name)"
   ]
  }
 ],
 "metadata": {
  "kernelspec": {
   "display_name": "cuda",
   "language": "python",
   "name": "python3"
  },
  "language_info": {
   "codemirror_mode": {
    "name": "ipython",
    "version": 3
   },
   "file_extension": ".py",
   "mimetype": "text/x-python",
   "name": "python",
   "nbconvert_exporter": "python",
   "pygments_lexer": "ipython3",
   "version": "3.9.18"
  }
 },
 "nbformat": 4,
 "nbformat_minor": 2
}
